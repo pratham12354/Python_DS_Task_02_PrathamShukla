{
 "cells": [
  {
   "cell_type": "markdown",
   "id": "f35733c0",
   "metadata": {},
   "source": [
    "# Task 02 - Custom DataFrame Transformation\n",
    "### Student Name: Pratham Shukla\n",
    "---\n",
    "This notebook demonstrates custom transformations using `apply` and summaries using `groupby`."
   ]
  },
  {
   "cell_type": "code",
   "execution_count": 8,
   "id": "bdfe14c6",
   "metadata": {},
   "outputs": [],
   "source": [
    "# Task 2: Custom DataFrame Transformation using apply and groupby\n",
    "import pandas as pd"
   ]
  },
  {
   "cell_type": "code",
   "execution_count": 9,
   "id": "139fcd3d-020e-479c-aac8-f77ce8718e7a",
   "metadata": {},
   "outputs": [
    {
     "name": "stdout",
     "output_type": "stream",
     "text": [
      "Original Data:\n"
     ]
    },
    {
     "data": {
      "text/html": [
       "<div>\n",
       "<style scoped>\n",
       "    .dataframe tbody tr th:only-of-type {\n",
       "        vertical-align: middle;\n",
       "    }\n",
       "\n",
       "    .dataframe tbody tr th {\n",
       "        vertical-align: top;\n",
       "    }\n",
       "\n",
       "    .dataframe thead th {\n",
       "        text-align: right;\n",
       "    }\n",
       "</style>\n",
       "<table border=\"1\" class=\"dataframe\">\n",
       "  <thead>\n",
       "    <tr style=\"text-align: right;\">\n",
       "      <th></th>\n",
       "      <th>SalesID</th>\n",
       "      <th>Quantity</th>\n",
       "      <th>Price</th>\n",
       "      <th>Discount</th>\n",
       "      <th>Revenue</th>\n",
       "    </tr>\n",
       "  </thead>\n",
       "  <tbody>\n",
       "    <tr>\n",
       "      <th>0</th>\n",
       "      <td>1</td>\n",
       "      <td>52</td>\n",
       "      <td>354.14</td>\n",
       "      <td>0.43</td>\n",
       "      <td>9665.46</td>\n",
       "    </tr>\n",
       "    <tr>\n",
       "      <th>1</th>\n",
       "      <td>2</td>\n",
       "      <td>93</td>\n",
       "      <td>427.46</td>\n",
       "      <td>0.44</td>\n",
       "      <td>1449.26</td>\n",
       "    </tr>\n",
       "    <tr>\n",
       "      <th>2</th>\n",
       "      <td>3</td>\n",
       "      <td>15</td>\n",
       "      <td>184.74</td>\n",
       "      <td>0.29</td>\n",
       "      <td>7571.53</td>\n",
       "    </tr>\n",
       "    <tr>\n",
       "      <th>3</th>\n",
       "      <td>4</td>\n",
       "      <td>72</td>\n",
       "      <td>138.08</td>\n",
       "      <td>0.26</td>\n",
       "      <td>3370.39</td>\n",
       "    </tr>\n",
       "    <tr>\n",
       "      <th>4</th>\n",
       "      <td>5</td>\n",
       "      <td>61</td>\n",
       "      <td>473.83</td>\n",
       "      <td>0.41</td>\n",
       "      <td>2974.54</td>\n",
       "    </tr>\n",
       "  </tbody>\n",
       "</table>\n",
       "</div>"
      ],
      "text/plain": [
       "   SalesID  Quantity   Price  Discount  Revenue\n",
       "0        1        52  354.14      0.43  9665.46\n",
       "1        2        93  427.46      0.44  1449.26\n",
       "2        3        15  184.74      0.29  7571.53\n",
       "3        4        72  138.08      0.26  3370.39\n",
       "4        5        61  473.83      0.41  2974.54"
      ]
     },
     "execution_count": 9,
     "metadata": {},
     "output_type": "execute_result"
    }
   ],
   "source": [
    "# Load dataset\n",
    "df = pd.read_csv(\"sales.csv\")\n",
    "print(\"Original Data:\")\n",
    "df.head()"
   ]
  },
  {
   "cell_type": "code",
   "execution_count": 10,
   "id": "57dc50cb-902c-46c2-841e-0c6db2678775",
   "metadata": {},
   "outputs": [],
   "source": [
    "# Create a new column 'TotalPrice' = Quantity * Price\n",
    "df[\"TotalPrice\"] = df[\"Quantity\"] * df[\"Price\"]"
   ]
  },
  {
   "cell_type": "code",
   "execution_count": 14,
   "id": "9d64c050-c779-43ae-baa9-4f188ae13464",
   "metadata": {},
   "outputs": [
    {
     "name": "stdout",
     "output_type": "stream",
     "text": [
      "\n",
      "Data with custom transformation:\n"
     ]
    },
    {
     "data": {
      "text/html": [
       "<div>\n",
       "<style scoped>\n",
       "    .dataframe tbody tr th:only-of-type {\n",
       "        vertical-align: middle;\n",
       "    }\n",
       "\n",
       "    .dataframe tbody tr th {\n",
       "        vertical-align: top;\n",
       "    }\n",
       "\n",
       "    .dataframe thead th {\n",
       "        text-align: right;\n",
       "    }\n",
       "</style>\n",
       "<table border=\"1\" class=\"dataframe\">\n",
       "  <thead>\n",
       "    <tr style=\"text-align: right;\">\n",
       "      <th></th>\n",
       "      <th>SalesID</th>\n",
       "      <th>Quantity</th>\n",
       "      <th>Price</th>\n",
       "      <th>Discount</th>\n",
       "      <th>Revenue</th>\n",
       "      <th>TotalPrice</th>\n",
       "      <th>DiscountedRevenue</th>\n",
       "    </tr>\n",
       "  </thead>\n",
       "  <tbody>\n",
       "    <tr>\n",
       "      <th>0</th>\n",
       "      <td>1</td>\n",
       "      <td>52</td>\n",
       "      <td>354.14</td>\n",
       "      <td>0.43</td>\n",
       "      <td>9665.46</td>\n",
       "      <td>18415.28</td>\n",
       "      <td>10496.7096</td>\n",
       "    </tr>\n",
       "    <tr>\n",
       "      <th>1</th>\n",
       "      <td>2</td>\n",
       "      <td>93</td>\n",
       "      <td>427.46</td>\n",
       "      <td>0.44</td>\n",
       "      <td>1449.26</td>\n",
       "      <td>39753.78</td>\n",
       "      <td>22262.1168</td>\n",
       "    </tr>\n",
       "    <tr>\n",
       "      <th>2</th>\n",
       "      <td>3</td>\n",
       "      <td>15</td>\n",
       "      <td>184.74</td>\n",
       "      <td>0.29</td>\n",
       "      <td>7571.53</td>\n",
       "      <td>2771.10</td>\n",
       "      <td>1967.4810</td>\n",
       "    </tr>\n",
       "    <tr>\n",
       "      <th>3</th>\n",
       "      <td>4</td>\n",
       "      <td>72</td>\n",
       "      <td>138.08</td>\n",
       "      <td>0.26</td>\n",
       "      <td>3370.39</td>\n",
       "      <td>9941.76</td>\n",
       "      <td>7356.9024</td>\n",
       "    </tr>\n",
       "    <tr>\n",
       "      <th>4</th>\n",
       "      <td>5</td>\n",
       "      <td>61</td>\n",
       "      <td>473.83</td>\n",
       "      <td>0.41</td>\n",
       "      <td>2974.54</td>\n",
       "      <td>28903.63</td>\n",
       "      <td>17053.1417</td>\n",
       "    </tr>\n",
       "  </tbody>\n",
       "</table>\n",
       "</div>"
      ],
      "text/plain": [
       "   SalesID  Quantity   Price  Discount  Revenue  TotalPrice  DiscountedRevenue\n",
       "0        1        52  354.14      0.43  9665.46    18415.28         10496.7096\n",
       "1        2        93  427.46      0.44  1449.26    39753.78         22262.1168\n",
       "2        3        15  184.74      0.29  7571.53     2771.10          1967.4810\n",
       "3        4        72  138.08      0.26  3370.39     9941.76          7356.9024\n",
       "4        5        61  473.83      0.41  2974.54    28903.63         17053.1417"
      ]
     },
     "execution_count": 14,
     "metadata": {},
     "output_type": "execute_result"
    }
   ],
   "source": [
    "# Example of custom function: calculate discounted revenue\n",
    "def discounted_revenue(row):    \n",
    "    return row[\"TotalPrice\"] * (1 - row[\"Discount\"])\n",
    "df[\"DiscountedRevenue\"] = df.apply(discounted_revenue, axis=1)\n",
    "print(\"\\nData with custom transformation:\")\n",
    "df.head()"
   ]
  },
  {
   "cell_type": "code",
   "execution_count": 15,
   "id": "53652943-e17d-4b30-bb04-7d1315290f97",
   "metadata": {},
   "outputs": [
    {
     "name": "stdout",
     "output_type": "stream",
     "text": [
      "\n",
      "Grouped result (Average DiscountedRevenue by Quantity):\n"
     ]
    },
    {
     "data": {
      "text/html": [
       "<div>\n",
       "<style scoped>\n",
       "    .dataframe tbody tr th:only-of-type {\n",
       "        vertical-align: middle;\n",
       "    }\n",
       "\n",
       "    .dataframe tbody tr th {\n",
       "        vertical-align: top;\n",
       "    }\n",
       "\n",
       "    .dataframe thead th {\n",
       "        text-align: right;\n",
       "    }\n",
       "</style>\n",
       "<table border=\"1\" class=\"dataframe\">\n",
       "  <thead>\n",
       "    <tr style=\"text-align: right;\">\n",
       "      <th></th>\n",
       "      <th>Quantity</th>\n",
       "      <th>DiscountedRevenue</th>\n",
       "    </tr>\n",
       "  </thead>\n",
       "  <tbody>\n",
       "    <tr>\n",
       "      <th>0</th>\n",
       "      <td>1</td>\n",
       "      <td>185.243079</td>\n",
       "    </tr>\n",
       "    <tr>\n",
       "      <th>1</th>\n",
       "      <td>2</td>\n",
       "      <td>413.118269</td>\n",
       "    </tr>\n",
       "    <tr>\n",
       "      <th>2</th>\n",
       "      <td>3</td>\n",
       "      <td>567.250863</td>\n",
       "    </tr>\n",
       "    <tr>\n",
       "      <th>3</th>\n",
       "      <td>4</td>\n",
       "      <td>836.768683</td>\n",
       "    </tr>\n",
       "    <tr>\n",
       "      <th>4</th>\n",
       "      <td>5</td>\n",
       "      <td>1077.577955</td>\n",
       "    </tr>\n",
       "  </tbody>\n",
       "</table>\n",
       "</div>"
      ],
      "text/plain": [
       "   Quantity  DiscountedRevenue\n",
       "0         1         185.243079\n",
       "1         2         413.118269\n",
       "2         3         567.250863\n",
       "3         4         836.768683\n",
       "4         5        1077.577955"
      ]
     },
     "execution_count": 15,
     "metadata": {},
     "output_type": "execute_result"
    }
   ],
   "source": [
    "# Groupby example: Average revenue per quantity group\n",
    "grouped = df.groupby(\"Quantity\")[\"DiscountedRevenue\"].mean().reset_index()\n",
    "print(\"\\nGrouped result (Average DiscountedRevenue by Quantity):\")\n",
    "grouped.head()"
   ]
  },
  {
   "cell_type": "code",
   "execution_count": 13,
   "id": "8e5f8a5a-b27a-42ca-aa28-8088e137883e",
   "metadata": {},
   "outputs": [],
   "source": [
    "# Save output\n",
    "df.to_csv(\"sales_transformed.csv\", index=False)\n",
    "grouped.to_csv(\"grouped_summary.csv\", index=False)"
   ]
  }
 ],
 "metadata": {
  "kernelspec": {
   "display_name": "Python 3 (ipykernel)",
   "language": "python",
   "name": "python3"
  },
  "language_info": {
   "codemirror_mode": {
    "name": "ipython",
    "version": 3
   },
   "file_extension": ".py",
   "mimetype": "text/x-python",
   "name": "python",
   "nbconvert_exporter": "python",
   "pygments_lexer": "ipython3",
   "version": "3.13.5"
  }
 },
 "nbformat": 4,
 "nbformat_minor": 5
}
