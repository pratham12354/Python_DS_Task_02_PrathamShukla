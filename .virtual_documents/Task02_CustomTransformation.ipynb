


# Task 2: Custom DataFrame Transformation using apply and groupby
import pandas as pd


# Load dataset
df = pd.read_csv("sales.csv")
print("Original Data:")
df.head()


# Create a new column 'TotalPrice' = Quantity * Price
df["TotalPrice"] = df["Quantity"] * df["Price"]


# Example of custom function: calculate discounted revenue
def discounted_revenue(row):    
    return row["TotalPrice"] * (1 - row["Discount"])
df["DiscountedRevenue"] = df.apply(discounted_revenue, axis=1)
print("\nData with custom transformation:")
print(df.head())


# Groupby example: Average revenue per quantity group
grouped = df.groupby("Quantity")["DiscountedRevenue"].mean().reset_index()
print("\nGrouped result (Average DiscountedRevenue by Quantity):")
print(grouped.head())


# Save output
df.to_csv("sales_transformed.csv", index=False)
grouped.to_csv("grouped_summary.csv", index=False)
